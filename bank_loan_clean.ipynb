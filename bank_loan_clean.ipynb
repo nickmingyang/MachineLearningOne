{
 "cells": [
  {
   "cell_type": "code",
   "execution_count": 1,
   "id": "816160c2-2424-4363-96ee-bb54d22a7e4b",
   "metadata": {},
   "outputs": [],
   "source": [
    "import pandas as pd\n",
    "import seaborn as sns\n",
    "import matplotlib.pyplot as plt\n",
    "import numpy as np\n",
    "import pandas as pd\n",
    "import plotly.express as px\n",
    "import pickle\n",
    "import seaborn as sns\n",
    "import re\n",
    "import datetime\n",
    "\n",
    "\n",
    "# Notebook options\n",
    "pd.options.display.max_rows = 99999\n",
    "pd.options.display.max_columns = 99999\n",
    "#pd.options.display.float_format = '{:20,.3f}'.format\n",
    "import random\n",
    "%matplotlib inline"
   ]
  },
  {
   "cell_type": "code",
   "execution_count": 2,
   "id": "c6ab62fe-0a03-496c-8b6a-bab8c24a5bca",
   "metadata": {},
   "outputs": [],
   "source": [
    "#%time data = pd.read_csv('archive/Loan_status_2007-2020Q3.gzip.zip', compression=\"zip\",index_col=0)"
   ]
  },
  {
   "cell_type": "code",
   "execution_count": 3,
   "id": "9e3bc9ff-edf2-4603-a714-8a2bc5ee6a48",
   "metadata": {},
   "outputs": [],
   "source": [
    "#%time data.to_pickle(\"data.pkl\")"
   ]
  },
  {
   "cell_type": "code",
   "execution_count": 4,
   "id": "87ca84ee-7487-412c-a05c-1d16971824fd",
   "metadata": {},
   "outputs": [
    {
     "name": "stdout",
     "output_type": "stream",
     "text": [
      "CPU times: user 3.14 s, sys: 2.09 s, total: 5.23 s\n",
      "Wall time: 5.24 s\n"
     ]
    }
   ],
   "source": [
    "%time data = pd.read_pickle(\"data.pkl\")"
   ]
  },
  {
   "cell_type": "code",
   "execution_count": 5,
   "id": "45738c3e-1323-40da-9dc7-b382c5ef9409",
   "metadata": {},
   "outputs": [],
   "source": [
    "column_missing_rate = 100*(data.isnull().sum(axis = 0) / len(data))"
   ]
  },
  {
   "cell_type": "code",
   "execution_count": 6,
   "id": "bdc15e48-9b23-4f2e-9ee8-dd5439795ead",
   "metadata": {},
   "outputs": [
    {
     "data": {
      "text/plain": [
       "0.0010254681860459075"
      ]
     },
     "execution_count": 6,
     "metadata": {},
     "output_type": "execute_result"
    }
   ],
   "source": [
    "100*(data.earliest_cr_line.isna().sum(axis = 0) / len(data))\n"
   ]
  },
  {
   "cell_type": "code",
   "execution_count": 7,
   "id": "0bb34f26-8770-4316-8bca-3657f027a82f",
   "metadata": {},
   "outputs": [],
   "source": [
    "column_missing_rate = pd.DataFrame(column_missing_rate)"
   ]
  },
  {
   "cell_type": "code",
   "execution_count": 8,
   "id": "ad51e13d-4aa8-4fb3-af59-71ca104c46a9",
   "metadata": {},
   "outputs": [],
   "source": [
    "column_missing_rate = column_missing_rate.reset_index()"
   ]
  },
  {
   "cell_type": "code",
   "execution_count": 9,
   "id": "26a7520f-a49c-4bee-84bb-4b4a224b4023",
   "metadata": {},
   "outputs": [],
   "source": [
    "column_missing_rate.columns = ['name','rate']"
   ]
  },
  {
   "cell_type": "code",
   "execution_count": 10,
   "id": "376f3dc9-b5e9-4a11-83a0-8d74c64e8b12",
   "metadata": {},
   "outputs": [
    {
     "name": "stdout",
     "output_type": "stream",
     "text": [
      "['mths_since_last_delinq', 'mths_since_last_record', 'next_pymnt_d', 'mths_since_last_major_derog', 'annual_inc_joint', 'dti_joint', 'verification_status_joint', 'open_acc_6m', 'open_act_il', 'open_il_12m', 'open_il_24m', 'mths_since_rcnt_il', 'total_bal_il', 'il_util', 'open_rv_12m', 'open_rv_24m', 'max_bal_bc', 'all_util', 'inq_fi', 'total_cu_tl', 'inq_last_12m', 'mths_since_recent_bc_dlq', 'mths_since_recent_revol_delinq', 'revol_bal_joint', 'sec_app_fico_range_low', 'sec_app_fico_range_high', 'sec_app_earliest_cr_line', 'sec_app_inq_last_6mths', 'sec_app_mort_acc', 'sec_app_open_acc', 'sec_app_revol_util', 'sec_app_open_act_il', 'sec_app_num_rev_accts', 'sec_app_chargeoff_within_12_mths', 'sec_app_collections_12_mths_ex_med', 'hardship_type', 'hardship_reason', 'hardship_status', 'deferral_term', 'hardship_amount', 'hardship_start_date', 'hardship_end_date', 'payment_plan_start_date', 'hardship_length', 'hardship_dpd', 'hardship_loan_status', 'orig_projected_additional_accrued_interest', 'hardship_payoff_balance_amount', 'hardship_last_payment_amount']\n"
     ]
    }
   ],
   "source": [
    "columns_to_delete = []\n",
    "for index, row in column_missing_rate.iterrows():\n",
    "    if row['rate'] >= 25:\n",
    "        columns_to_delete.append(row['name'])\n",
    "print(columns_to_delete)"
   ]
  },
  {
   "cell_type": "code",
   "execution_count": 11,
   "id": "1c2d6ecd-b46e-4ab0-bc98-d89c04416e93",
   "metadata": {},
   "outputs": [],
   "source": [
    "columns_to_delete.sort()"
   ]
  },
  {
   "cell_type": "markdown",
   "id": "99356191-fb9b-495f-988c-1bb730a5dc6a",
   "metadata": {},
   "source": [
    "### Below are columns/attributes that has over 25% missing data in original dataset\n",
    "__We decided to delete them from analysis__"
   ]
  },
  {
   "cell_type": "code",
   "execution_count": 12,
   "id": "7d9d8f3f-f1df-4b14-af1e-af4feebef765",
   "metadata": {},
   "outputs": [
    {
     "name": "stdout",
     "output_type": "stream",
     "text": [
      "['all_util', 'annual_inc_joint', 'deferral_term', 'dti_joint', 'hardship_amount', 'hardship_dpd', 'hardship_end_date', 'hardship_last_payment_amount', 'hardship_length', 'hardship_loan_status', 'hardship_payoff_balance_amount', 'hardship_reason', 'hardship_start_date', 'hardship_status', 'hardship_type', 'il_util', 'inq_fi', 'inq_last_12m', 'max_bal_bc', 'mths_since_last_delinq', 'mths_since_last_major_derog', 'mths_since_last_record', 'mths_since_rcnt_il', 'mths_since_recent_bc_dlq', 'mths_since_recent_revol_delinq', 'next_pymnt_d', 'open_acc_6m', 'open_act_il', 'open_il_12m', 'open_il_24m', 'open_rv_12m', 'open_rv_24m', 'orig_projected_additional_accrued_interest', 'payment_plan_start_date', 'revol_bal_joint', 'sec_app_chargeoff_within_12_mths', 'sec_app_collections_12_mths_ex_med', 'sec_app_earliest_cr_line', 'sec_app_fico_range_high', 'sec_app_fico_range_low', 'sec_app_inq_last_6mths', 'sec_app_mort_acc', 'sec_app_num_rev_accts', 'sec_app_open_acc', 'sec_app_open_act_il', 'sec_app_revol_util', 'total_bal_il', 'total_cu_tl', 'verification_status_joint']\n"
     ]
    }
   ],
   "source": [
    "print(columns_to_delete)"
   ]
  },
  {
   "cell_type": "markdown",
   "id": "35fd96d5-1b0d-4948-845d-8cfa49587972",
   "metadata": {},
   "source": [
    "__Per Group discussion keep sec_app_fico_range_low and sec_app_fico_range_high__"
   ]
  },
  {
   "cell_type": "code",
   "execution_count": 13,
   "id": "ec95d32b-5448-40e3-bb65-c2a2301b0434",
   "metadata": {},
   "outputs": [],
   "source": [
    "columns_to_delete.remove('sec_app_fico_range_low')"
   ]
  },
  {
   "cell_type": "code",
   "execution_count": 14,
   "id": "0527c450-35e5-42ce-a769-e784b5c2229d",
   "metadata": {},
   "outputs": [],
   "source": [
    "columns_to_delete.remove('sec_app_fico_range_high')"
   ]
  },
  {
   "cell_type": "code",
   "execution_count": 15,
   "id": "555a0985-0db1-4965-bc8b-cbc3b6354dc7",
   "metadata": {},
   "outputs": [],
   "source": [
    "data.drop(columns_to_delete,axis=1,inplace=True)"
   ]
  },
  {
   "cell_type": "markdown",
   "id": "00dfd0d6-75d5-47aa-860e-9e9fd926dac4",
   "metadata": {},
   "source": [
    "create a list of variables to delete per discussion"
   ]
  },
  {
   "cell_type": "code",
   "execution_count": 16,
   "id": "b6d773ba-a70f-4c64-b058-25d105c6cc2d",
   "metadata": {},
   "outputs": [],
   "source": [
    "group_agreed_deletation = ['id','sub_grade','initial_list_status','last_credit_pull_d',\n",
    "                           'mths_since_recent_inq','num_accts_ever_120_pd',\n",
    "                          'num_bc_sats','num_bc_tl','num_op_rev_tl','num_rev_accts',\n",
    "                          'num_rev_tl_bal_gt_0','num_sats','num_tl_120dpd_2m',\n",
    "                          'num_tl_30dpd','num_tl_op_past_12m','total_pymnt',\n",
    "                          'total_pymnt_inv','url','zip_code','emp_title']"
   ]
  },
  {
   "cell_type": "code",
   "execution_count": 17,
   "id": "fc0972a0-195d-42b3-8a67-807af07b590d",
   "metadata": {},
   "outputs": [],
   "source": [
    "data.drop(group_agreed_deletation,axis=1,inplace=True)"
   ]
  },
  {
   "cell_type": "code",
   "execution_count": 18,
   "id": "d53914cb-88aa-4590-9322-a3697bb9da89",
   "metadata": {},
   "outputs": [],
   "source": [
    "nick_suggested_deletation = ['avg_cur_bal','bc_open_to_buy','collection_recovery_fee',\n",
    "                             'funded_amnt','funded_amnt_inv','installment','num_actv_bc_tl',\n",
    "                            'out_prncp_inv','percent_bc_gt_75','policy_code','pub_rec',\n",
    "                             'tot_hi_cred_lim','total_acc','total_il_high_credit_limit',\n",
    "                            'total_rec_int','total_rev_hi_lim','pymnt_plan','title']"
   ]
  },
  {
   "cell_type": "code",
   "execution_count": 19,
   "id": "79ab08b5-caab-4519-9f54-1ccda8698487",
   "metadata": {},
   "outputs": [],
   "source": [
    "data.drop(nick_suggested_deletation,axis=1,inplace=True)"
   ]
  },
  {
   "cell_type": "code",
   "execution_count": 20,
   "id": "11a5636e-d687-4168-aa58-4b01a78e6262",
   "metadata": {
    "tags": []
   },
   "outputs": [
    {
     "data": {
      "text/plain": [
       "Series([], Name: fico_range_high, dtype: float64)"
      ]
     },
     "execution_count": 20,
     "metadata": {},
     "output_type": "execute_result"
    }
   ],
   "source": [
    "data['fico_range_high'][data['fico_range_high']<=600]"
   ]
  },
  {
   "cell_type": "markdown",
   "id": "51f513b0-8464-42c9-930f-e20f8bdda48b",
   "metadata": {},
   "source": [
    "__Dropping observation at index 39786 - NA for all attributes__"
   ]
  },
  {
   "cell_type": "code",
   "execution_count": 21,
   "id": "281d22e9-d89f-4ce2-bb20-b389779673fb",
   "metadata": {},
   "outputs": [],
   "source": [
    "data.drop(index=39786,inplace=True)"
   ]
  },
  {
   "cell_type": "code",
   "execution_count": 22,
   "id": "79f035e9-d363-4195-b196-bd0f03d89eb0",
   "metadata": {},
   "outputs": [],
   "source": [
    "data['fico'] = (data['fico_range_high']+data['fico_range_low'])/2\n",
    "data['last_fico'] = data['last_fico_range_high']-2\n",
    "data['last_fico'] = np.where(data['last_fico']<=0,data['fico'],data['last_fico'])\n",
    "data['sec_app_fico'] = (data['sec_app_fico_range_high']+data['sec_app_fico_range_low'])/2\n",
    "data['overall_fico'] = data[['fico', 'sec_app_fico']].mean(axis=1)\n",
    "fico_to_drop = ['fico','fico_range_high','fico_range_low',\n",
    "                'last_fico_range_high','last_fico_range_low',\n",
    "                'sec_app_fico_range_high','sec_app_fico_range_low','sec_app_fico']\n",
    "data.drop(fico_to_drop,axis=1,inplace=True)"
   ]
  },
  {
   "cell_type": "markdown",
   "id": "8723a238-552b-4665-b076-426adcce3949",
   "metadata": {},
   "source": [
    "### David's Append"
   ]
  },
  {
   "cell_type": "code",
   "execution_count": 23,
   "id": "4162b777-4d86-4a06-8835-b8283f535315",
   "metadata": {
    "tags": []
   },
   "outputs": [],
   "source": [
    "def str_to_rate(x: str):\n",
    "    if isinstance(x, str):\n",
    "        x = x[:-1]\n",
    "        return float(x)\n",
    "    elif np.isnan(x):\n",
    "        return x\n",
    "    else:\n",
    "        pass\n",
    "    \n",
    "def remove_pattern(pattern: str, original: str):\n",
    "    if isinstance(original, str):\n",
    "        original = original.lower()\n",
    "        return int(re.sub(pattern, '', original ))\n",
    "    else:\n",
    "        return np.nan\n",
    "        \n",
    "def str_date(x: str):\n",
    "    if isinstance(x, str):\n",
    "        x = datetime.datetime.strptime(x, '%b-%Y')\n",
    "    else:\n",
    "        x= np.nan\n",
    "    return x\n",
    "\n",
    "def credit_days(date2: datetime.date, date1: datetime.datetime.date):\n",
    "    if isinstance(date2, datetime.date) and isinstance(date1, datetime.date):\n",
    "        difference = date2 - date1\n",
    "        return int(difference.days)\n",
    "    else:\n",
    "        return np.nan\n",
    "\n",
    "def build_hist(data: pd.DataFrame, x: str):\n",
    "    fig = px.histogram(data, x=x)\n",
    "    fig.show()\n",
    "    \n",
    "def hist_by_group(data: pd.DataFrame,x: str, grp: str):\n",
    "    fig = px.histogram(data, x=x,\n",
    "        color = grp)\n",
    "    fig.show()"
   ]
  },
  {
   "cell_type": "code",
   "execution_count": 24,
   "id": "871370df-05e5-4813-b686-207935ccc5d7",
   "metadata": {},
   "outputs": [],
   "source": [
    "# convert int rate string to float\n",
    "data[\"int_rate\"] = data[\"int_rate\"].apply(lambda x: str_to_rate(x) )\n",
    "\n",
    "# convert revol_util string to float\n",
    "data[\"revol_util\"] = data[\"revol_util\"].apply(lambda x: str_to_rate(x) )\n",
    "\n",
    "# remove term from term feature and convert to int  - we might  want to hot encode this - Per group discussion leave as original\n",
    "# data[\"term\"] = data[\"term\"].apply(lambda x: remove_pattern(r\"months?\\b\", x) )\n",
    "\n",
    "# remove years from emp_length feature and convert to int -  we might  want to hot encode this\n",
    "#data[\"emp_length\"] = data[\"emp_length\"].apply(lambda x: remove_pattern(r\"years?\\b\", x) )"
   ]
  },
  {
   "cell_type": "code",
   "execution_count": 25,
   "id": "b2bc087e-5300-460b-935c-f499920fbed0",
   "metadata": {},
   "outputs": [],
   "source": [
    "# convert issue_d string to datetime\n",
    "data[\"issue_d\"] = data[\"issue_d\"].apply(lambda x: str_date(x) )\n",
    "\n",
    "# convert earliest_cr_line string to datetime\n",
    "data[\"earliest_cr_line\"] = data[\"earliest_cr_line\"].apply(lambda x: str_date(x) )\n",
    "\n",
    "# convert last_pymnt_d string to datetime\n",
    "data[\"last_pymnt_d\"] = data[\"last_pymnt_d\"].apply(lambda x: str_date(x) )"
   ]
  },
  {
   "cell_type": "code",
   "execution_count": 26,
   "id": "af85c10d-aeef-4a97-b2bd-fcbd800d2abb",
   "metadata": {},
   "outputs": [],
   "source": [
    "#  Drop nan from earliest_cr_line  to ensure the credit_days function runs properly\n",
    "#crates new feature called days_with_Credit from issue_d and earliest_cr_line\n",
    "data = data.dropna(subset=[\"earliest_cr_line\"], axis=0)\n",
    "data['days_with_Credit'] = data[['issue_d','earliest_cr_line']].apply(lambda x: credit_days(*x), axis=1)"
   ]
  },
  {
   "cell_type": "code",
   "execution_count": 27,
   "id": "22fd3574-b2bb-47f8-a16e-803f4e85b9ad",
   "metadata": {},
   "outputs": [],
   "source": [
    "data = data[data['issue_d']>= \"2015-01-01\"]"
   ]
  },
  {
   "cell_type": "code",
   "execution_count": 28,
   "id": "d3d4a799-f66b-48de-bd01-d89459b34a00",
   "metadata": {},
   "outputs": [],
   "source": [
    "sample_100k = data.sample(n=100000,random_state=101)"
   ]
  },
  {
   "cell_type": "code",
   "execution_count": 29,
   "id": "8cb4edc8-a44c-4b7d-9782-3b5220016c53",
   "metadata": {},
   "outputs": [],
   "source": [
    "# Creating good_loan_or_not column - consolidating loan_status column\n",
    "good_loan_status = ['Fully Paid','Current','In Grace Period','Issued']\n",
    "bad_loan_status = ['Charged Off','Late (31-120 days)','Late (16-30 days)','Default']\n",
    "#'Fully Paid' in good_loan_status\n",
    "def loan_flag(loan_st: str):\n",
    "    if loan_st in good_loan_status:\n",
    "        x = 1\n",
    "        return x\n",
    "    else:\n",
    "        x = 0\n",
    "        return x\n",
    "# create good_loan_or_not column \n",
    "sample_100k[\"good_loan_or_not\"] = sample_100k[\"loan_status\"].apply(lambda x: loan_flag(x))"
   ]
  },
  {
   "cell_type": "code",
   "execution_count": 30,
   "id": "b38fb69c-ec3a-4391-95df-1c91f283a1e3",
   "metadata": {},
   "outputs": [],
   "source": [
    "sample_100k.to_pickle(\"loan_100k_sample.pkl\")"
   ]
  },
  {
   "cell_type": "code",
   "execution_count": 31,
   "id": "5e19a273-48b6-4064-b7f8-2e10b1561502",
   "metadata": {},
   "outputs": [
    {
     "name": "stdout",
     "output_type": "stream",
     "text": [
      "CPU times: user 30.2 ms, sys: 23.4 ms, total: 53.6 ms\n",
      "Wall time: 52.6 ms\n"
     ]
    }
   ],
   "source": [
    "%time data_100k = pd.read_pickle(\"loan_100k_sample.pkl\")"
   ]
  },
  {
   "cell_type": "code",
   "execution_count": 32,
   "id": "46ecd2e9-fcd2-4952-877d-a2a1e06fa676",
   "metadata": {},
   "outputs": [
    {
     "name": "stdout",
     "output_type": "stream",
     "text": [
      "<class 'pandas.core.frame.DataFrame'>\n",
      "Int64Index: 100000 entries, 36800 to 46436\n",
      "Data columns (total 54 columns):\n",
      " #   Column                      Non-Null Count   Dtype         \n",
      "---  ------                      --------------   -----         \n",
      " 0   loan_amnt                   100000 non-null  float64       \n",
      " 1   term                        100000 non-null  object        \n",
      " 2   int_rate                    100000 non-null  float64       \n",
      " 3   grade                       100000 non-null  object        \n",
      " 4   emp_length                  92532 non-null   object        \n",
      " 5   home_ownership              100000 non-null  object        \n",
      " 6   annual_inc                  100000 non-null  float64       \n",
      " 7   verification_status         100000 non-null  object        \n",
      " 8   issue_d                     100000 non-null  datetime64[ns]\n",
      " 9   loan_status                 100000 non-null  object        \n",
      " 10  purpose                     100000 non-null  object        \n",
      " 11  addr_state                  100000 non-null  object        \n",
      " 12  dti                         99887 non-null   float64       \n",
      " 13  delinq_2yrs                 100000 non-null  float64       \n",
      " 14  earliest_cr_line            100000 non-null  datetime64[ns]\n",
      " 15  inq_last_6mths              99999 non-null   float64       \n",
      " 16  open_acc                    100000 non-null  float64       \n",
      " 17  revol_bal                   100000 non-null  float64       \n",
      " 18  revol_util                  99920 non-null   float64       \n",
      " 19  out_prncp                   100000 non-null  float64       \n",
      " 20  total_rec_prncp             100000 non-null  float64       \n",
      " 21  total_rec_late_fee          100000 non-null  float64       \n",
      " 22  recoveries                  100000 non-null  float64       \n",
      " 23  last_pymnt_d                99797 non-null   datetime64[ns]\n",
      " 24  last_pymnt_amnt             100000 non-null  float64       \n",
      " 25  collections_12_mths_ex_med  100000 non-null  float64       \n",
      " 26  application_type            100000 non-null  object        \n",
      " 27  acc_now_delinq              100000 non-null  float64       \n",
      " 28  tot_coll_amt                100000 non-null  float64       \n",
      " 29  tot_cur_bal                 100000 non-null  float64       \n",
      " 30  acc_open_past_24mths        100000 non-null  float64       \n",
      " 31  bc_util                     98841 non-null   float64       \n",
      " 32  chargeoff_within_12_mths    100000 non-null  float64       \n",
      " 33  delinq_amnt                 100000 non-null  float64       \n",
      " 34  mo_sin_old_il_acct          97071 non-null   float64       \n",
      " 35  mo_sin_old_rev_tl_op        100000 non-null  float64       \n",
      " 36  mo_sin_rcnt_rev_tl_op       100000 non-null  float64       \n",
      " 37  mo_sin_rcnt_tl              100000 non-null  float64       \n",
      " 38  mort_acc                    100000 non-null  float64       \n",
      " 39  mths_since_recent_bc        98972 non-null   float64       \n",
      " 40  num_actv_rev_tl             100000 non-null  float64       \n",
      " 41  num_il_tl                   100000 non-null  float64       \n",
      " 42  num_tl_90g_dpd_24m          100000 non-null  float64       \n",
      " 43  pct_tl_nvr_dlq              100000 non-null  float64       \n",
      " 44  pub_rec_bankruptcies        100000 non-null  float64       \n",
      " 45  tax_liens                   100000 non-null  float64       \n",
      " 46  total_bal_ex_mort           100000 non-null  float64       \n",
      " 47  total_bc_limit              100000 non-null  float64       \n",
      " 48  hardship_flag               98454 non-null   object        \n",
      " 49  debt_settlement_flag        100000 non-null  object        \n",
      " 50  last_fico                   100000 non-null  float64       \n",
      " 51  overall_fico                100000 non-null  float64       \n",
      " 52  days_with_Credit            100000 non-null  int64         \n",
      " 53  good_loan_or_not            100000 non-null  int64         \n",
      "dtypes: datetime64[ns](3), float64(38), int64(2), object(11)\n",
      "memory usage: 42.0+ MB\n"
     ]
    }
   ],
   "source": [
    "data_100k.info()"
   ]
  },
  {
   "cell_type": "code",
   "execution_count": 33,
   "id": "ea7d8cbd-7bad-49fc-ae23-9ffc181637c9",
   "metadata": {},
   "outputs": [
    {
     "data": {
      "text/plain": [
       "loan_amnt                     0.000000\n",
       "term                          0.000000\n",
       "int_rate                      0.000000\n",
       "grade                         0.000000\n",
       "emp_length                    0.303685\n",
       "home_ownership                0.000000\n",
       "annual_inc                    0.000000\n",
       "verification_status           0.000000\n",
       "issue_d                       0.000000\n",
       "loan_status                   0.000000\n",
       "purpose                       0.000000\n",
       "addr_state                    0.000000\n",
       "dti                           0.004595\n",
       "delinq_2yrs                   0.000000\n",
       "earliest_cr_line              0.000000\n",
       "inq_last_6mths                0.000041\n",
       "open_acc                      0.000000\n",
       "revol_bal                     0.000000\n",
       "revol_util                    0.003253\n",
       "out_prncp                     0.000000\n",
       "total_rec_prncp               0.000000\n",
       "total_rec_late_fee            0.000000\n",
       "recoveries                    0.000000\n",
       "last_pymnt_d                  0.008255\n",
       "last_pymnt_amnt               0.000000\n",
       "collections_12_mths_ex_med    0.000000\n",
       "application_type              0.000000\n",
       "acc_now_delinq                0.000000\n",
       "tot_coll_amt                  0.000000\n",
       "tot_cur_bal                   0.000000\n",
       "acc_open_past_24mths          0.000000\n",
       "bc_util                       0.047131\n",
       "chargeoff_within_12_mths      0.000000\n",
       "delinq_amnt                   0.000000\n",
       "mo_sin_old_il_acct            0.119107\n",
       "mo_sin_old_rev_tl_op          0.000000\n",
       "mo_sin_rcnt_rev_tl_op         0.000000\n",
       "mo_sin_rcnt_tl                0.000000\n",
       "mort_acc                      0.000000\n",
       "mths_since_recent_bc          0.041803\n",
       "num_actv_rev_tl               0.000000\n",
       "num_il_tl                     0.000000\n",
       "num_tl_90g_dpd_24m            0.000000\n",
       "pct_tl_nvr_dlq                0.000000\n",
       "pub_rec_bankruptcies          0.000000\n",
       "tax_liens                     0.000000\n",
       "total_bal_ex_mort             0.000000\n",
       "total_bc_limit                0.000000\n",
       "hardship_flag                 0.062868\n",
       "debt_settlement_flag          0.000000\n",
       "last_fico                     0.000000\n",
       "overall_fico                  0.000000\n",
       "days_with_Credit              0.000000\n",
       "good_loan_or_not              0.000000\n",
       "dtype: float64"
      ]
     },
     "execution_count": 33,
     "metadata": {},
     "output_type": "execute_result"
    }
   ],
   "source": [
    "100*(data_100k.isnull().sum(axis = 0) / len(data))"
   ]
  },
  {
   "cell_type": "code",
   "execution_count": null,
   "id": "5dcee5a4-cd8f-404b-bf37-0abe32bfa46b",
   "metadata": {},
   "outputs": [],
   "source": []
  }
 ],
 "metadata": {
  "kernelspec": {
   "display_name": "Python 3",
   "language": "python",
   "name": "python3"
  },
  "language_info": {
   "codemirror_mode": {
    "name": "ipython",
    "version": 3
   },
   "file_extension": ".py",
   "mimetype": "text/x-python",
   "name": "python",
   "nbconvert_exporter": "python",
   "pygments_lexer": "ipython3",
   "version": "3.9.4"
  }
 },
 "nbformat": 4,
 "nbformat_minor": 5
}
