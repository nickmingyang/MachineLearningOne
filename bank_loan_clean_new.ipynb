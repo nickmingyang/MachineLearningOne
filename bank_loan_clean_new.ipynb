{
 "cells": [
  {
   "cell_type": "code",
   "execution_count": 1,
   "id": "da24354f-2a49-45ad-bb3a-e527891770f0",
   "metadata": {},
   "outputs": [],
   "source": [
    "import pandas as pd\n",
    "import seaborn as sns\n",
    "import matplotlib.pyplot as plt\n",
    "import numpy as np\n",
    "import pandas as pd\n",
    "import plotly.express as px\n",
    "import pickle\n",
    "import seaborn as sns\n",
    "import re\n",
    "import datetime\n",
    "\n",
    "\n",
    "# Notebook options\n",
    "pd.options.display.max_rows = 99999\n",
    "pd.options.display.max_columns = 99999\n",
    "#pd.options.display.float_format = '{:20,.3f}'.format\n",
    "import random\n",
    "%matplotlib inline"
   ]
  },
  {
   "cell_type": "code",
   "execution_count": 2,
   "id": "a67c5e85-95ca-4082-98ff-9d93541fd645",
   "metadata": {},
   "outputs": [
    {
     "name": "stdout",
     "output_type": "stream",
     "text": [
      "CPU times: user 3.34 s, sys: 2.09 s, total: 5.43 s\n",
      "Wall time: 5.46 s\n"
     ]
    }
   ],
   "source": [
    "%time data = pd.read_pickle(\"data.pkl\")"
   ]
  },
  {
   "cell_type": "code",
   "execution_count": 3,
   "id": "d6595516-f4cb-4118-b9ac-ce3da634a163",
   "metadata": {},
   "outputs": [],
   "source": [
    "data.drop(index=39786,inplace=True)"
   ]
  },
  {
   "cell_type": "code",
   "execution_count": 4,
   "id": "7322a15a-17a2-4751-ae95-5200a87be437",
   "metadata": {},
   "outputs": [],
   "source": [
    "def str_to_rate(x: str):\n",
    "    if isinstance(x, str):\n",
    "        x = x[:-1]\n",
    "        return float(x)\n",
    "    elif np.isnan(x):\n",
    "        return x\n",
    "    else:\n",
    "        pass\n",
    "    \n",
    "def remove_pattern(pattern: str, original: str):\n",
    "    if isinstance(original, str):\n",
    "        original = original.lower()\n",
    "        return int(re.sub(pattern, '', original ))\n",
    "    else:\n",
    "        return np.nan\n",
    "        \n",
    "def str_date(x: str):\n",
    "    if isinstance(x, str):\n",
    "        x = datetime.datetime.strptime(x, '%b-%Y')\n",
    "    else:\n",
    "        x= np.nan\n",
    "    return x\n",
    "\n",
    "def credit_days(date2: datetime.date, date1: datetime.datetime.date):\n",
    "    if isinstance(date2, datetime.date) and isinstance(date1, datetime.date):\n",
    "        difference = date2 - date1\n",
    "        return int(difference.days)\n",
    "    else:\n",
    "        return np.nan\n",
    "\n",
    "def build_hist(data: pd.DataFrame, x: str):\n",
    "    fig = px.histogram(data, x=x)\n",
    "    fig.show()\n",
    "    \n",
    "def hist_by_group(data: pd.DataFrame,x: str, grp: str):\n",
    "    fig = px.histogram(data, x=x,\n",
    "        color = grp)\n",
    "    fig.show()\n",
    "    \n"
   ]
  },
  {
   "cell_type": "code",
   "execution_count": 5,
   "id": "86c6b939-a45f-4bda-982e-3422606b0fca",
   "metadata": {},
   "outputs": [],
   "source": [
    "# convert issue_d string to datetime\n",
    "data[\"issue_d\"] = data[\"issue_d\"].apply(lambda x: str_date(x) )\n",
    "\n",
    "# convert earliest_cr_line string to datetime\n",
    "data[\"earliest_cr_line\"] = data[\"earliest_cr_line\"].apply(lambda x: str_date(x) )\n",
    "\n",
    "# convert last_pymnt_d string to datetime\n",
    "data[\"last_pymnt_d\"] = data[\"last_pymnt_d\"].apply(lambda x: str_date(x) )\n",
    "\n"
   ]
  },
  {
   "cell_type": "code",
   "execution_count": 6,
   "id": "2593134c-5edb-4421-8122-718514883254",
   "metadata": {},
   "outputs": [],
   "source": [
    "data = data[data['issue_d']>= \"2015-01-01\"]\n",
    "sample_100k = data.sample(n=100000,random_state=101)\n",
    "sample_100k.to_pickle(\"loan_100k_sample.pkl\")"
   ]
  },
  {
   "cell_type": "code",
   "execution_count": 7,
   "id": "8eed21ca-0240-4d6f-ab71-28dcc83ca520",
   "metadata": {},
   "outputs": [
    {
     "name": "stdout",
     "output_type": "stream",
     "text": [
      "CPU times: user 125 ms, sys: 64.3 ms, total: 190 ms\n",
      "Wall time: 188 ms\n"
     ]
    }
   ],
   "source": [
    "%time data_100k = pd.read_pickle(\"loan_100k_sample.pkl\")"
   ]
  },
  {
   "cell_type": "code",
   "execution_count": 8,
   "id": "d3138245-6ece-453d-8413-f4e513307d84",
   "metadata": {},
   "outputs": [
    {
     "name": "stdout",
     "output_type": "stream",
     "text": [
      "<class 'pandas.core.frame.DataFrame'>\n",
      "Int64Index: 100000 entries, 36800 to 46436\n",
      "Columns: 141 entries, id to debt_settlement_flag\n",
      "dtypes: datetime64[ns](3), float64(106), object(32)\n",
      "memory usage: 108.3+ MB\n"
     ]
    }
   ],
   "source": [
    "data_100k.info()"
   ]
  }
 ],
 "metadata": {
  "kernelspec": {
   "display_name": "Python 3",
   "language": "python",
   "name": "python3"
  },
  "language_info": {
   "codemirror_mode": {
    "name": "ipython",
    "version": 3
   },
   "file_extension": ".py",
   "mimetype": "text/x-python",
   "name": "python",
   "nbconvert_exporter": "python",
   "pygments_lexer": "ipython3",
   "version": "3.9.4"
  }
 },
 "nbformat": 4,
 "nbformat_minor": 5
}
